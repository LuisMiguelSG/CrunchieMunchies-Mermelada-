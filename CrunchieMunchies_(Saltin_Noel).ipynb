{
  "nbformat": 4,
  "nbformat_minor": 0,
  "metadata": {
    "colab": {
      "provenance": [],
      "authorship_tag": "ABX9TyMyH318uePiRKMfpS/Z6YJq",
      "include_colab_link": true
    },
    "kernelspec": {
      "name": "python3",
      "display_name": "Python 3"
    },
    "language_info": {
      "name": "python"
    }
  },
  "cells": [
    {
      "cell_type": "markdown",
      "metadata": {
        "id": "view-in-github",
        "colab_type": "text"
      },
      "source": [
        "<a href=\"https://colab.research.google.com/github/LuisMiguelSG/CrunchieMunchies-Mermelada-/blob/main/CrunchieMunchies_(Saltin_Noel).ipynb\" target=\"_parent\"><img src=\"https://colab.research.google.com/assets/colab-badge.svg\" alt=\"Open In Colab\"/></a>"
      ]
    },
    {
      "cell_type": "markdown",
      "source": [
        "# Actividad CrunchieMunchies\n",
        "\n",
        "Fecha: *22 de Abril de 2024*\n",
        "\n",
        "Presentado por: *Luis Miguel Sierra Gomezcasseres*\n",
        "\n",
        "Email: luis.sierragc@upb.edu.co"
      ],
      "metadata": {
        "id": "zP4icWbi6xRT"
      }
    },
    {
      "cell_type": "code",
      "execution_count": 116,
      "metadata": {
        "colab": {
          "base_uri": "https://localhost:8080/"
        },
        "id": "Wywm-XqWiDqu",
        "outputId": "bd0eb081-9e5a-43b4-f18a-1b2ce3b83a70"
      },
      "outputs": [
        {
          "output_type": "stream",
          "name": "stdout",
          "text": [
            "fatal: destination path 'CrunchieMunchies-Mermelada-' already exists and is not an empty directory.\n",
            "[ 50.  50.  50.  70.  70.  80.  90.  90.  90.  90.  90.  90.  90. 100.\n",
            " 100. 100. 100. 100. 100. 100. 100. 100. 100. 100. 100. 100. 100. 100.\n",
            " 100. 100. 110. 110. 110. 110. 110. 110. 110. 110. 110. 110. 110. 110.\n",
            " 110. 110. 110. 110. 110. 110. 110. 110. 110. 110. 110. 110. 110. 110.\n",
            " 110. 110. 110. 120. 120. 120. 120. 120. 120. 120. 120. 120. 120. 130.\n",
            " 130. 140. 140. 140. 150. 150. 160.] \n",
            "\n",
            "CrunchieMunchies tiene 46.88 calorías menos que el promedio.\n",
            "Calorías promedio: 106.88 calorías.\n",
            "Mediana de calorías: 110.00 calorías.\n",
            "Percentil 4%: 70.00 calorías\n",
            "El 96% de cereales tienen más de 60 calorías por porción.\n",
            "Desviación estándar de las calorías: 19.36 calorías.\n",
            "\n",
            " R/ Según la desviación estándar podemos concluir que los datos se encuentran muy separados entre si, denotando la diferencia entre el valor minimo: 50,\n",
            "    con el valor maximo: 160, por lo tanto, se deduce que los datos no estaban muy agrupados entre si.\n",
            "    También se puede interpretar como si el mayor conjunto de datos estuviera reunido en un intervalo desde el centro de los datos hasta 19.36 calorías\n",
            "    a la izquierda y a la derecha del centro. Y este intervalo tiene sentido dado la superioridad en número del valor 110 en el medio de los datos.\n",
            "\n",
            "                  Centro de datos                 \n",
            "----|-------------------|-------------------|----\n",
            "  19.36 calorías                         19.36 calorías\n",
            "   a la izquierda                         a la derecha\n"
          ]
        }
      ],
      "source": [
        "!git clone https://github.com/LuisMiguelSG/CrunchieMunchies-Mermelada-.git\n",
        "import numpy as np\n",
        "calorie_stats = np.genfromtxt(\"CrunchieMunchies-Mermelada-/cereal.csv\", delimiter =\",\")\n",
        "averange_calories = np.mean(calorie_stats)\n",
        "median_calories = np.median(calorie_stats)\n",
        "calorie_stats_sorted = np.sort(calorie_stats)\n",
        "def nth_percentile():\n",
        "  for p in range(100):\n",
        "    percentile_value = np.percentile(calorie_stats_sorted, p)\n",
        "    if percentile_value > 60:\n",
        "      print(f\"Percentil {p}%: {percentile_value:.2f} calorías\")\n",
        "      break\n",
        "more_calories = np.mean(calorie_stats > 60) * 100\n",
        "calorie_std = np.std(calorie_stats)\n",
        "print(calorie_stats_sorted, \"\\n\")\n",
        "print(f\"CrunchieMunchies tiene {(averange_calories-60):.2f} calorías menos que el promedio.\")\n",
        "print(f\"Calorías promedio: {averange_calories:.2f} calorías.\")\n",
        "print(f\"Mediana de calorías: {median_calories:.2f} calorías.\")\n",
        "nth_percentile()\n",
        "print(f\"El {round(more_calories)}% de cereales tienen más de 60 calorías por porción.\")\n",
        "print(f\"Desviación estándar de las calorías: {calorie_std:.2f} calorías.\")\n",
        "print(\"\\n\",\"R/ Según la desviación estándar podemos concluir que los datos se encuentran muy separados entre si, denotando la diferencia entre el valor minimo: 50,\")\n",
        "print(\"    con el valor maximo: 160, por lo tanto, se deduce que los datos no estaban muy agrupados entre si.\")\n",
        "print(\"    También se puede interpretar como si el mayor conjunto de datos estuviera reunido en un intervalo desde el centro de los datos hasta 19.36 calorías\")\n",
        "print(\"    a la izquierda y a la derecha del centro. Y este intervalo tiene sentido dado la superioridad en número del valor 110 en el medio de los datos.\")\n",
        "print(\"\\n\",\"                 Centro de datos                 \")\n",
        "print(     \"----|-------------------|-------------------|----\")\n",
        "print(\"  19.36 calorías                         19.36 calorías\")\n",
        "print(\"   a la izquierda                         a la derecha\")"
      ]
    }
  ]
}